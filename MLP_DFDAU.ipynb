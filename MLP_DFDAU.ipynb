{
  "nbformat": 4,
  "nbformat_minor": 0,
  "metadata": {
    "colab": {
      "provenance": []
    },
    "kernelspec": {
      "name": "python3",
      "display_name": "Python 3"
    },
    "language_info": {
      "name": "python"
    }
  },
  "cells": [
    {
      "cell_type": "code",
      "execution_count": 1,
      "metadata": {
        "colab": {
          "base_uri": "https://localhost:8080/"
        },
        "id": "auhw71Qy9mPZ",
        "outputId": "0363b6c4-774d-4d1a-e378-fff57dd87712"
      },
      "outputs": [
        {
          "output_type": "stream",
          "name": "stdout",
          "text": [
            "Mounted at /content/drive\n"
          ]
        }
      ],
      "source": [
        "# 1. Mount Google Drive\n",
        "from google.colab import drive\n",
        "drive.mount('/content/drive')"
      ]
    },
    {
      "cell_type": "code",
      "source": [
        "# 2. Imports\n",
        "import os\n",
        "import numpy as np\n",
        "import librosa\n",
        "import matplotlib.pyplot as plt\n",
        "import seaborn as sns\n",
        "from tqdm import tqdm\n",
        "import warnings\n",
        "warnings.filterwarnings(\"ignore\")\n",
        "\n",
        "from sklearn.model_selection import train_test_split\n",
        "from sklearn.metrics import (\n",
        "    accuracy_score, precision_score, recall_score, f1_score,\n",
        "    roc_auc_score, confusion_matrix\n",
        ")\n",
        "\n",
        "import tensorflow as tf\n",
        "from tensorflow.keras.models import Sequential\n",
        "from tensorflow.keras.layers import Dense, Dropout, Input\n",
        "from tensorflow.keras.callbacks import EarlyStopping\n"
      ],
      "metadata": {
        "id": "LI_x_iAg97Po"
      },
      "execution_count": 2,
      "outputs": []
    },
    {
      "cell_type": "code",
      "source": [
        "# 3. Dataset Path\n",
        "DATASET_PATH = '/content/drive/MyDrive/deepfake_detection_dataset_urdu'\n"
      ],
      "metadata": {
        "id": "KAqkUSLb_LeS"
      },
      "execution_count": 3,
      "outputs": []
    },
    {
      "cell_type": "code",
      "source": [
        "# 4. Load File Paths and Labels\n",
        "def get_audio_paths_and_labels(dataset_path):\n",
        "    wav_files = []\n",
        "    labels = []\n",
        "    for root, _, files in os.walk(dataset_path):\n",
        "        for file in files:\n",
        "            if file.endswith(\".wav\"):\n",
        "                file_path = os.path.join(root, file)\n",
        "                if \"Bonafide\" in file_path:\n",
        "                    label = 0\n",
        "                elif \"Tacotron\" in file_path or \"VITS\" in file_path:\n",
        "                    label = 1\n",
        "                else:\n",
        "                    continue\n",
        "                wav_files.append(file_path)\n",
        "                labels.append(label)\n",
        "    return wav_files, np.array(labels)\n",
        "\n",
        "file_paths, labels = get_audio_paths_and_labels(DATASET_PATH)\n"
      ],
      "metadata": {
        "id": "OcvhTJgf_P5A"
      },
      "execution_count": 4,
      "outputs": []
    },
    {
      "cell_type": "code",
      "source": [
        "# 5. Feature Extraction Functions\n",
        "def extract_mfcc(file_path, sr=16000, n_mfcc=13):\n",
        "    y, sr = librosa.load(file_path, sr=sr)\n",
        "    mfcc = librosa.feature.mfcc(y=y, sr=sr, n_mfcc=n_mfcc)\n",
        "    return np.mean(mfcc, axis=1)\n",
        "\n",
        "def extract_mel(file_path, sr=16000, n_mels=40):\n",
        "    y, sr = librosa.load(file_path, sr=sr)\n",
        "    mel = librosa.feature.melspectrogram(y=y, sr=sr, n_mels=n_mels)\n",
        "    mel_db = librosa.power_to_db(mel)\n",
        "    return np.mean(mel_db, axis=1)\n",
        "\n",
        "def extract_chroma(file_path, sr=16000):\n",
        "    y, sr = librosa.load(file_path, sr=sr)\n",
        "    stft = np.abs(librosa.stft(y))\n",
        "    chroma = librosa.feature.chroma_stft(S=stft, sr=sr)\n",
        "    return np.mean(chroma, axis=1)\n",
        "\n",
        "def extract_features(file_paths, feature_type='mfcc'):\n",
        "    features = []\n",
        "    for path in tqdm(file_paths, desc=f\"Extracting {feature_type.upper()}\"):\n",
        "        try:\n",
        "            if feature_type == 'mfcc':\n",
        "                feat = extract_mfcc(path)\n",
        "            elif feature_type == 'mel':\n",
        "                feat = extract_mel(path)\n",
        "            elif feature_type == 'chroma':\n",
        "                feat = extract_chroma(path)\n",
        "            features.append(feat)\n",
        "        except Exception as e:\n",
        "            print(f\"Error processing {path}: {e}\")\n",
        "    return np.array(features)\n"
      ],
      "metadata": {
        "id": "olgtxLgQ_VYS"
      },
      "execution_count": 5,
      "outputs": []
    },
    {
      "cell_type": "code",
      "source": [
        "# 6. Train and Evaluate MLP Model\n",
        "def train_mlp(X, y, feature_name):\n",
        "    print(f\"\\nTraining MLP on {feature_name.upper()} Features\")\n",
        "\n",
        "    X_train, X_test, y_train, y_test = train_test_split(\n",
        "        X, y, test_size=0.2, random_state=42\n",
        "    )\n",
        "\n",
        "    input_dim = X_train.shape[1]\n",
        "\n",
        "    model = Sequential([\n",
        "        Input(shape=(input_dim,)),\n",
        "        Dense(128, activation='relu'),\n",
        "        Dropout(0.3),\n",
        "        Dense(64, activation='relu'),\n",
        "        Dropout(0.3),\n",
        "        Dense(1, activation='sigmoid')\n",
        "    ])\n",
        "\n",
        "    model.compile(optimizer='adam', loss='binary_crossentropy', metrics=['accuracy'])\n",
        "\n",
        "    early_stop = EarlyStopping(monitor='val_loss', patience=5, restore_best_weights=True)\n",
        "\n",
        "    model.fit(\n",
        "        X_train, y_train,\n",
        "        validation_split=0.2,\n",
        "        epochs=50,\n",
        "        batch_size=32,\n",
        "        callbacks=[early_stop],\n",
        "        verbose=0\n",
        "    )\n",
        "\n",
        "    y_pred_prob = model.predict(X_test).flatten()\n",
        "    y_pred = (y_pred_prob > 0.5).astype(int)\n",
        "\n",
        "    acc = accuracy_score(y_test, y_pred)\n",
        "    precision = precision_score(y_test, y_pred)\n",
        "    recall = recall_score(y_test, y_pred)\n",
        "    f1 = f1_score(y_test, y_pred)\n",
        "    auc = roc_auc_score(y_test, y_pred_prob)\n",
        "    cm = confusion_matrix(y_test, y_pred)\n",
        "\n",
        "    print(\"\\n--- Classification Metrics ---\")\n",
        "    print(f\"Accuracy : {acc:.4f}\")\n",
        "    print(f\"Precision: {precision:.4f}\")\n",
        "    print(f\"Recall   : {recall:.4f}\")\n",
        "    print(f\"F1-Score : {f1:.4f}\")\n",
        "    print(f\"AUC      : {auc:.4f}\")\n",
        "    print(\"\\nConfusion Matrix:\")\n",
        "    print(cm)\n",
        "\n",
        "    # Confusion Matrix Plot\n",
        "    plt.figure(figsize=(5, 4))\n",
        "    sns.heatmap(cm, annot=True, fmt=\"d\", cmap=\"Blues\", xticklabels=[\"Bonafide\", \"Fake\"], yticklabels=[\"Bonafide\", \"Fake\"])\n",
        "    plt.title(f\"{feature_name.upper()} - Confusion Matrix\")\n",
        "    plt.xlabel(\"Predicted\")\n",
        "    plt.ylabel(\"Actual\")\n",
        "    plt.show()\n",
        "\n",
        "    return model"
      ],
      "metadata": {
        "id": "4cC7pqp8_Yv0"
      },
      "execution_count": 6,
      "outputs": []
    },
    {
      "cell_type": "markdown",
      "source": [
        "MFCC"
      ],
      "metadata": {
        "id": "B9Jx35Wc_hWx"
      }
    },
    {
      "cell_type": "code",
      "source": [
        "X_mfcc = extract_features(file_paths, 'mfcc')\n",
        "mlp_mfcc = train_mlp(X_mfcc, labels, 'mfcc')"
      ],
      "metadata": {
        "colab": {
          "base_uri": "https://localhost:8080/",
          "height": 670
        },
        "id": "XulKzOq1_ddD",
        "outputId": "eda64919-e0a8-4d33-8b5e-17a64991a889"
      },
      "execution_count": 7,
      "outputs": [
        {
          "output_type": "stream",
          "name": "stderr",
          "text": [
            "Extracting MFCC: 100%|██████████| 5108/5108 [39:30<00:00,  2.15it/s]\n"
          ]
        },
        {
          "output_type": "stream",
          "name": "stdout",
          "text": [
            "\n",
            "Training MLP on MFCC Features\n",
            "\u001b[1m32/32\u001b[0m \u001b[32m━━━━━━━━━━━━━━━━━━━━\u001b[0m\u001b[37m\u001b[0m \u001b[1m0s\u001b[0m 2ms/step \n",
            "\n",
            "--- Classification Metrics ---\n",
            "Accuracy : 0.9785\n",
            "Precision: 0.9611\n",
            "Recall   : 0.9774\n",
            "F1-Score : 0.9692\n",
            "AUC      : 0.9977\n",
            "\n",
            "Confusion Matrix:\n",
            "[[654  14]\n",
            " [  8 346]]\n"
          ]
        },
        {
          "output_type": "display_data",
          "data": {
            "text/plain": [
              "<Figure size 500x400 with 2 Axes>"
            ],
            "image/png": "[encoded data removed]"
          },
          "metadata": {}
        }
      ]
    },
    {
      "cell_type": "markdown",
      "source": [
        "Mel Spectrogram"
      ],
      "metadata": {
        "id": "fgEqkBCf_o-L"
      }
    },
    {
      "cell_type": "code",
      "source": [
        "X_mel = extract_features(file_paths, 'mel')\n",
        "mlp_mel = train_mlp(X_mel, labels, 'mel')"
      ],
      "metadata": {
        "colab": {
          "base_uri": "https://localhost:8080/",
          "height": 670
        },
        "id": "u4q3Ez6n_iN_",
        "outputId": "d667198c-9efc-4c46-edc2-b082b5f0b938"
      },
      "execution_count": 9,
      "outputs": [
        {
          "output_type": "stream",
          "name": "stderr",
          "text": [
            "Extracting MEL: 100%|██████████| 5108/5108 [01:15<00:00, 67.81it/s]\n"
          ]
        },
        {
          "output_type": "stream",
          "name": "stdout",
          "text": [
            "\n",
            "Training MLP on MEL Features\n",
            "\u001b[1m32/32\u001b[0m \u001b[32m━━━━━━━━━━━━━━━━━━━━\u001b[0m\u001b[37m\u001b[0m \u001b[1m0s\u001b[0m 2ms/step \n",
            "\n",
            "--- Classification Metrics ---\n",
            "Accuracy : 0.9677\n",
            "Precision: 0.9791\n",
            "Recall   : 0.9266\n",
            "F1-Score : 0.9521\n",
            "AUC      : 0.9917\n",
            "\n",
            "Confusion Matrix:\n",
            "[[661   7]\n",
            " [ 26 328]]\n"
          ]
        },
        {
          "output_type": "display_data",
          "data": {
            "text/plain": [
              "<Figure size 500x400 with 2 Axes>"
            ],
            "image/png": "[encoded data removed]"
          },
          "metadata": {}
        }
      ]
    },
    {
      "cell_type": "markdown",
      "source": [
        "chroma"
      ],
      "metadata": {
        "id": "3gMKvlPV_yBE"
      }
    },
    {
      "cell_type": "code",
      "source": [
        "X_chroma = extract_features(file_paths, 'chroma')\n",
        "mlp_chroma = train_mlp(X_chroma, labels, 'chroma')"
      ],
      "metadata": {
        "colab": {
          "base_uri": "https://localhost:8080/",
          "height": 670
        },
        "id": "SFv-ua9X_tF1",
        "outputId": "dfdd9468-387b-429a-ae10-17e0f68bf24a"
      },
      "execution_count": 10,
      "outputs": [
        {
          "output_type": "stream",
          "name": "stderr",
          "text": [
            "Extracting CHROMA: 100%|██████████| 5108/5108 [01:50<00:00, 46.24it/s]\n"
          ]
        },
        {
          "output_type": "stream",
          "name": "stdout",
          "text": [
            "\n",
            "Training MLP on CHROMA Features\n",
            "\u001b[1m32/32\u001b[0m \u001b[32m━━━━━━━━━━━━━━━━━━━━\u001b[0m\u001b[37m\u001b[0m \u001b[1m0s\u001b[0m 2ms/step \n",
            "\n",
            "--- Classification Metrics ---\n",
            "Accuracy : 0.9129\n",
            "Precision: 0.9431\n",
            "Recall   : 0.7966\n",
            "F1-Score : 0.8637\n",
            "AUC      : 0.9485\n",
            "\n",
            "Confusion Matrix:\n",
            "[[651  17]\n",
            " [ 72 282]]\n"
          ]
        },
        {
          "output_type": "display_data",
          "data": {
            "text/plain": [
              "<Figure size 500x400 with 2 Axes>"
            ],
            "image/png": "[encoded data removed]"
          },
          "metadata": {}
        }
      ]
    },
    {
      "cell_type": "markdown",
      "source": [
        "## Final Report: Multilayer Perceptron on Urdu Deepfake Detection\n",
        "\n",
        "We evaluated a multilayer perceptron (MLP) on three types of audio features: MFCC, Mel Spectrogram, and Chroma. The MLP consisted of two hidden layers with ReLU activation and dropout for regularization.\n",
        "\n",
        "### Key Findings:\n",
        "- **MFCC features gave the best results**, achieving 97.85% accuracy and an AUC of 0.9977.\n",
        "- **Mel Spectrogram features also performed very well**, with higher precision but slightly lower recall than MFCC.\n",
        "- **Chroma features were significantly less effective**, especially in recall, making them less reliable on their own.\n",
        "\n",
        "These results confirm that MFCC and Mel Spectrogram are highly effective features for detecting deepfake Urdu audio. Chroma may still be useful as part of a combined feature approach.\n",
        "\n",
        "Future work can explore:\n",
        "- Feature fusion (e.g., MFCC + Mel)\n",
        "- Advanced architectures (e.g., CNNs, attention-based models)\n",
        "- Speaker-independent splits and cross-validation for further generalization analysis\n"
      ],
      "metadata": {
        "id": "IrUnob5qLODd"
      }
    },
    {
      "cell_type": "code",
      "source": [],
      "metadata": {
        "id": "xFwyiXBgLNxD"
      },
      "execution_count": null,
      "outputs": []
    },
    {
      "cell_type": "code",
      "source": [
        ""
      ],
      "metadata": {
        "id": "Als23pH-_y-v"
      },
      "execution_count": null,
      "outputs": []
    }
  ]
}