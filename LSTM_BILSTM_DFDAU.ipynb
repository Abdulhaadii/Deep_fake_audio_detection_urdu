{
  "nbformat": 4,
  "nbformat_minor": 0,
  "metadata": {
    "colab": {
      "provenance": [],
      "gpuType": "T4"
    },
    "kernelspec": {
      "name": "python3",
      "display_name": "Python 3"
    },
    "language_info": {
      "name": "python"
    },
    "accelerator": "GPU"
  },
  "cells": [
    {
      "cell_type": "code",
      "execution_count": 1,
      "metadata": {
        "colab": {
          "base_uri": "https://localhost:8080/"
        },
        "id": "qhX-xrF9b5yl",
        "outputId": "6e38875b-9a62-411e-bc67-571752baf600"
      },
      "outputs": [
        {
          "output_type": "stream",
          "name": "stdout",
          "text": [
            "Mounted at /content/drive\n"
          ]
        }
      ],
      "source": [
        "from google.colab import drive\n",
        "drive.mount('/content/drive')\n"
      ]
    },
    {
      "cell_type": "markdown",
      "source": [
        "#MFCC"
      ],
      "metadata": {
        "id": "g3IPFwqzeYB4"
      }
    },
    {
      "cell_type": "code",
      "source": [
        "import torch\n",
        "import torch.nn as nn\n",
        "import torch.optim as optim\n",
        "import librosa\n",
        "import numpy as np\n",
        "from torch.utils.data import Dataset, DataLoader\n",
        "from sklearn.model_selection import train_test_split\n",
        "from sklearn.metrics import accuracy_score, classification_report, confusion_matrix, f1_score, roc_auc_score, precision_score, recall_score\n",
        "import seaborn as sns\n",
        "import os\n",
        "import matplotlib.pyplot as plt"
      ],
      "metadata": {
        "id": "8aWLwi9ib9pA"
      },
      "execution_count": 2,
      "outputs": []
    },
    {
      "cell_type": "code",
      "source": [
        "class MFCCDataset(Dataset):\n",
        "    def __init__(self, file_paths, labels, sr=16000, n_mfcc=40):\n",
        "        self.file_paths = file_paths\n",
        "        self.labels = labels\n",
        "        self.sr = sr\n",
        "        self.n_mfcc = n_mfcc\n",
        "\n",
        "    def __len__(self):\n",
        "        return len(self.file_paths)\n",
        "\n",
        "    def __getitem__(self, idx):\n",
        "        path = self.file_paths[idx]\n",
        "        label = self.labels[idx]\n",
        "        y, _ = librosa.load(path, sr=self.sr)\n",
        "        mfcc = librosa.feature.mfcc(y=y, sr=self.sr, n_mfcc=self.n_mfcc)\n",
        "        mfcc = torch.tensor(mfcc.T, dtype=torch.float32)  # shape: (time, n_mfcc)\n",
        "        return mfcc, label"
      ],
      "metadata": {
        "id": "vWxdxtJac_YI"
      },
      "execution_count": 3,
      "outputs": []
    },
    {
      "cell_type": "code",
      "source": [
        "class LSTMClassifier(nn.Module):\n",
        "    def __init__(self, input_size=40, hidden_size=128, num_layers=2, bidirectional=False):\n",
        "        super(LSTMClassifier, self).__init__()\n",
        "        self.lstm = nn.LSTM(input_size, hidden_size, num_layers,\n",
        "                            batch_first=True, bidirectional=bidirectional)\n",
        "        direction_factor = 2 if bidirectional else 1\n",
        "        self.fc = nn.Linear(hidden_size * direction_factor, 2)\n",
        "\n",
        "    def forward(self, x):\n",
        "        h_lstm, _ = self.lstm(x)  # output: (batch, seq_len, hidden*dir)\n",
        "        out = h_lstm[:, -1, :]    # last time step\n",
        "        return self.fc(out)\n"
      ],
      "metadata": {
        "id": "qgwvG0ZAdIOH"
      },
      "execution_count": 4,
      "outputs": []
    },
    {
      "cell_type": "code",
      "source": [
        "def train_lstm_model(model, train_loader, epochs=10, lr=0.001):\n",
        "    model.to(device)\n",
        "    criterion = nn.CrossEntropyLoss()\n",
        "    optimizer = optim.Adam(model.parameters(), lr=lr)\n",
        "\n",
        "    for epoch in range(epochs):\n",
        "        model.train()\n",
        "        total_loss = 0\n",
        "        for mfccs, labels in train_loader:\n",
        "            mfccs, labels = mfccs.to(device), labels.to(device)\n",
        "            optimizer.zero_grad()\n",
        "            outputs = model(mfccs)\n",
        "            loss = criterion(outputs, labels)\n",
        "            loss.backward()\n",
        "            optimizer.step()\n",
        "            total_loss += loss.item()\n",
        "        print(f\"Epoch {epoch+1} Loss: {total_loss / len(train_loader):.4f}\")\n"
      ],
      "metadata": {
        "id": "Eyzyy4qFdN4K"
      },
      "execution_count": 5,
      "outputs": []
    },
    {
      "cell_type": "code",
      "source": [
        "def evaluate_lstm_model(model, test_loader, name=\"LSTM\"):\n",
        "    model.eval()\n",
        "    all_preds, all_labels = [], []\n",
        "\n",
        "    with torch.no_grad():\n",
        "        for mfccs, labels in test_loader:\n",
        "            mfccs = mfccs.to(device)\n",
        "            outputs = model(mfccs)\n",
        "            preds = torch.argmax(outputs, dim=1).cpu().numpy()\n",
        "            all_preds.extend(preds)\n",
        "            all_labels.extend(labels)\n",
        "\n",
        "    acc = accuracy_score(all_labels, all_preds)\n",
        "    prec = precision_score(all_labels, all_preds)\n",
        "    rec = recall_score(all_labels, all_preds)\n",
        "    f1 = f1_score(all_labels, all_preds)\n",
        "    auc = roc_auc_score(all_labels, all_preds)\n",
        "\n",
        "    print(\"\\n--- Classification Metrics ---\")\n",
        "    print(f\"Accuracy : {acc:.4f}\")\n",
        "    print(f\"Precision: {prec:.4f}\")\n",
        "    print(f\"Recall   : {rec:.4f}\")\n",
        "    print(f\"F1-Score : {f1:.4f}\")\n",
        "    print(f\"AUC      : {auc:.4f}\")\n",
        "\n",
        "    cm = confusion_matrix(all_labels, all_preds)\n",
        "    sns.heatmap(cm, annot=True, fmt='d', cmap='Blues')\n",
        "    plt.title(f\"{name} Confusion Matrix\")\n",
        "    plt.xlabel(\"Predicted\")\n",
        "    plt.ylabel(\"Actual\")\n",
        "    plt.show()\n",
        "\n",
        "    print(\"\\nClassification Report:\")\n",
        "    print(classification_report(all_labels, all_preds))\n"
      ],
      "metadata": {
        "id": "DxM6Vx51dTe2"
      },
      "execution_count": 6,
      "outputs": []
    },
    {
      "cell_type": "code",
      "source": [
        "def collect_audio_files(base_path):\n",
        "    categories = {'Bonafide': 0, 'Spoofed_TTS': 1, 'Spoofed_Tacotron': 1}\n",
        "    file_paths, labels = [], []\n",
        "\n",
        "    for category, label in categories.items():\n",
        "        category_path = os.path.join(base_path, category)\n",
        "        if not os.path.exists(category_path):\n",
        "            continue\n",
        "\n",
        "        for speaker_folder in os.listdir(category_path):\n",
        "            speaker_path = os.path.join(category_path, speaker_folder)\n",
        "            if os.path.isdir(speaker_path):\n",
        "                for root, _, files in os.walk(speaker_path):\n",
        "                    for file in files:\n",
        "                        if file.lower().endswith('.wav'):\n",
        "                            file_paths.append(os.path.join(root, file))\n",
        "                            labels.append(label)\n",
        "\n",
        "    return file_paths, labels\n"
      ],
      "metadata": {
        "id": "8PivpGDdd6XC"
      },
      "execution_count": 7,
      "outputs": []
    },
    {
      "cell_type": "code",
      "source": [
        "device = torch.device(\"cuda\" if torch.cuda.is_available() else \"cpu\")\n",
        "\n",
        "# Load your existing file_paths and labels from previous code\n",
        "from sklearn.utils import shuffle\n",
        "file_paths, labels = collect_audio_files(\"/content/drive/MyDrive/deepfake_detection_dataset_urdu\")\n",
        "file_paths, labels = shuffle(file_paths, labels, random_state=42)\n",
        "\n",
        "train_fp, test_fp, train_lbl, test_lbl = train_test_split(\n",
        "    file_paths, labels, test_size=0.2, stratify=labels, random_state=42\n",
        ")\n",
        "\n",
        "train_dataset = MFCCDataset(train_fp, train_lbl)\n",
        "test_dataset = MFCCDataset(test_fp, test_lbl)\n",
        "train_loader = DataLoader(train_dataset, batch_size=32, shuffle=True, collate_fn=lambda x: list(zip(*x)))\n",
        "test_loader = DataLoader(test_dataset, batch_size=32, collate_fn=lambda x: list(zip(*x)))\n",
        "\n",
        "# Collate function to pad sequences\n",
        "from torch.nn.utils.rnn import pad_sequence\n",
        "\n",
        "def collate_fn(batch):\n",
        "    mfccs, labels = zip(*batch)\n",
        "    mfccs_padded = pad_sequence(mfccs, batch_first=True)\n",
        "    labels = torch.tensor(labels, dtype=torch.long)\n",
        "    return mfccs_padded, labels\n",
        "\n",
        "train_loader = DataLoader(train_dataset, batch_size=32, shuffle=True, collate_fn=collate_fn)\n",
        "test_loader = DataLoader(test_dataset, batch_size=32, collate_fn=collate_fn)\n"
      ],
      "metadata": {
        "id": "v1LrjapndZ4p"
      },
      "execution_count": 8,
      "outputs": []
    },
    {
      "cell_type": "code",
      "source": [
        "# 🔁 LSTM\n",
        "print(\"\\nTraining LSTM...\")\n",
        "lstm_model = LSTMClassifier(bidirectional=False)\n",
        "train_lstm_model(lstm_model, train_loader)\n",
        "evaluate_lstm_model(lstm_model, test_loader, name=\"LSTM\")"
      ],
      "metadata": {
        "colab": {
          "base_uri": "https://localhost:8080/",
          "height": 993
        },
        "id": "LhHfWmMJdgr3",
        "outputId": "02f18748-1e51-4c86-d95f-7e99f5bb6d68"
      },
      "execution_count": 9,
      "outputs": [
        {
          "output_type": "stream",
          "name": "stdout",
          "text": [
            "\n",
            "Training LSTM...\n",
            "Epoch 1 Loss: 0.6849\n",
            "Epoch 2 Loss: 0.5596\n",
            "Epoch 3 Loss: 0.4414\n",
            "Epoch 4 Loss: 0.5248\n",
            "Epoch 5 Loss: 0.6821\n",
            "Epoch 6 Loss: 0.5979\n",
            "Epoch 7 Loss: 0.5137\n",
            "Epoch 8 Loss: 0.5146\n",
            "Epoch 9 Loss: 0.4567\n",
            "Epoch 10 Loss: 0.4826\n",
            "\n",
            "--- Classification Metrics ---\n",
            "Accuracy : 0.5088\n",
            "Precision: 0.5041\n",
            "Recall   : 0.9985\n",
            "F1-Score : 0.6700\n",
            "AUC      : 0.5095\n"
          ]
        },
        {
          "output_type": "display_data",
          "data": {
            "text/plain": [
              "<Figure size 640x480 with 2 Axes>"
            ],
            "image/png": "[encoded data removed]"
          },
          "metadata": {}
        },
        {
          "output_type": "stream",
          "name": "stdout",
          "text": [
            "\n",
            "Classification Report:\n",
            "              precision    recall  f1-score   support\n",
            "\n",
            "           0       0.93      0.02      0.04       682\n",
            "           1       0.50      1.00      0.67       680\n",
            "\n",
            "    accuracy                           0.51      1362\n",
            "   macro avg       0.72      0.51      0.36      1362\n",
            "weighted avg       0.72      0.51      0.35      1362\n",
            "\n"
          ]
        }
      ]
    },
    {
      "cell_type": "markdown",
      "source": [
        "report_text = \"\"\"\n",
        "Model Evaluation Report\n",
        "=========================\n",
        "\n",
        "LSTM Model Summary\n",
        "-------------------------\n",
        "The LSTM model was trained for 10 epochs. The training loss fluctuated and did not consistently decrease, suggesting instability in learning. Although the recall was extremely high (99.85%), the model showed poor overall classification performance.\n",
        "\n",
        "Metrics:\n",
        "- Accuracy : 50.88%\n",
        "- Precision: 50.41%\n",
        "- Recall   : 99.85%\n",
        "- F1-Score : 67.00%\n",
        "- AUC      : 0.5095\n",
        "\n",
        "Observations:\n",
        "- The model strongly favored class 1, predicting it for most inputs.\n",
        "- As a result, class 0 predictions were mostly incorrect, with recall close to 0 for class 0.\n",
        "- This indicates biased learning and poor generalization.\n",
        "\n",
        "--------------------------------------------------\n",
        "\n",
        "BiLSTM Model Summary\n",
        "-------------------------\n",
        "The BiLSTM model was also trained for 10 epochs and showed rapid convergence, with training loss decreasing to near-zero. The model performed exceptionally well on the test set.\n",
        "\n",
        "Metrics:\n",
        "- Accuracy : 99.19%\n",
        "- Precision: 99.12%\n",
        "- Recall   : 99.26%\n",
        "- F1-Score : 99.19%\n",
        "- AUC      : 0.9919\n",
        "\n",
        "Observations:\n",
        "- Balanced and high performance on both classes.\n",
        "- Very low loss and excellent metrics indicate good generalization.\n",
        "- No signs of overfitting were observed, as test metrics matched training behavior closely.\n",
        "\n",
        "Conclusion:\n",
        "BiLSTM outperformed the LSTM model by a large margin. It effectively captured sequential patterns in both directions, leading to strong classification performance and generalization.\n",
        "\"\"\"\n",
        "\n",
        "# Save to text file\n",
        "with open(\"model_evaluation_report.txt\", \"w\") as f:\n",
        "    f.write(report_text)\n",
        "\n",
        "# Optionally download the file in Colab\n",
        "from google.colab import files\n",
        "files.download(\"model_evaluation_report.txt\")\n"
      ],
      "metadata": {
        "id": "zHGcmpqg1uyO"
      }
    },
    {
      "cell_type": "code",
      "source": [],
      "metadata": {
        "id": "oXAil99ifsQD"
      },
      "execution_count": 20,
      "outputs": []
    },
    {
      "cell_type": "code",
      "source": [],
      "metadata": {
        "id": "siXNz2mGfsNK"
      },
      "execution_count": 20,
      "outputs": []
    },
    {
      "cell_type": "code",
      "source": [],
      "metadata": {
        "id": "sGakovpufsJj"
      },
      "execution_count": null,
      "outputs": []
    },
    {
      "cell_type": "code",
      "source": [],
      "metadata": {
        "id": "tllYNCidfr_L"
      },
      "execution_count": null,
      "outputs": []
    }
  ]
}