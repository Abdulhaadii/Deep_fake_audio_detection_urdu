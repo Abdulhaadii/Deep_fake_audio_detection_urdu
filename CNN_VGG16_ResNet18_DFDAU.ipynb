{
  "nbformat": 4,
  "nbformat_minor": 0,
  "metadata": {
    "colab": {
      "provenance": [],
      "gpuType": "T4"
    },
    "kernelspec": {
      "name": "python3",
      "display_name": "Python 3"
    },
    "language_info": {
      "name": "python"
    },
    "accelerator": "GPU"
  },
  "cells": [
    {
      "cell_type": "code",
      "execution_count": 1,
      "metadata": {
        "colab": {
          "base_uri": "https://localhost:8080/"
        },
        "id": "lAau95QZRPCz",
        "outputId": "d5831796-79aa-466f-cf70-7d2725e90c4e"
      },
      "outputs": [
        {
          "output_type": "stream",
          "name": "stdout",
          "text": [
            "Mounted at /content/drive\n"
          ]
        }
      ],
      "source": [
        "# 1. Mount Drive\n",
        "from google.colab import drive\n",
        "drive.mount('/content/drive')"
      ]
    },
    {
      "cell_type": "markdown",
      "source": [
        "# Urdu Deepfake Audio Detection using CNN Architectures\n",
        "\n",
        "This project focuses on detecting deepfake (synthetically generated) speech in the Urdu language using deep learning techniques. We use convolutional neural network (CNN) architectures applied to Mel spectrogram representations of audio signals.\n",
        "\n",
        "## Objective\n",
        "- Extract Mel spectrogram features from audio files.\n",
        "- Train and evaluate two CNN models:\n",
        "  - ResNet18\n",
        "  - VGG16\n",
        "- Compare their performance on deepfake detection.\n",
        "- Prevent overfitting using:\n",
        "  - Early stopping\n",
        "  - Learning rate scheduling\n",
        "  - L2 regularization (weight decay)\n",
        "  - Stratified train-test split\n",
        "\n",
        "## Dataset\n",
        "We use the publicly available \"CSALT Deepfake Detection Dataset - Urdu\", which includes:\n",
        "- Bonafide (real) speech samples\n",
        "- Spoofed (fake) speech generated using different TTS models\n",
        "\n",
        "## Evaluation Metrics\n",
        "- Accuracy\n",
        "- Precision\n",
        "- Recall\n",
        "- F1-score\n",
        "- ROC-AUC\n",
        "- Confusion Matrix\n",
        "\n",
        "## Tools and Libraries\n",
        "- PyTorch and torchvision\n",
        "- Librosa for feature extraction\n",
        "- Scikit-learn for metrics and data splitting\n",
        "- Matplotlib and Seaborn for visualization\n",
        "- Transformers (for HuBERT embedding-based comparison, optional)\n",
        "\n",
        "This notebook is part of a final year project for evaluating robust audio-based deepfake detection in low-resource languages such as Urdu.\n"
      ],
      "metadata": {
        "id": "0X95mIANtTX9"
      }
    },
    {
      "cell_type": "code",
      "source": [
        "import os\n",
        "import torch\n",
        "import librosa\n",
        "import numpy as np\n",
        "import matplotlib.pyplot as plt\n",
        "import seaborn as sns\n",
        "from tqdm import tqdm\n",
        "from sklearn.model_selection import GroupShuffleSplit\n",
        "from sklearn.metrics import accuracy_score, classification_report, confusion_matrix, precision_score, recall_score, f1_score, roc_auc_score\n",
        "from torchvision import models, transforms\n",
        "from torch.utils.data import Dataset, DataLoader\n",
        "from torch import nn, optim"
      ],
      "metadata": {
        "id": "TFl-x4d-slXo"
      },
      "execution_count": 22,
      "outputs": []
    },
    {
      "cell_type": "code",
      "source": [
        "# Set device\n",
        "device = torch.device(\"cuda\" if torch.cuda.is_available() else \"cpu\")\n"
      ],
      "metadata": {
        "id": "eEuAs4votmdD"
      },
      "execution_count": 23,
      "outputs": []
    },
    {
      "cell_type": "code",
      "source": [
        "from PIL import Image\n",
        "class MelSpectrogramDataset(Dataset):\n",
        "    def __init__(self, file_paths, labels, sr=16000, n_mels=128):\n",
        "        self.file_paths = file_paths\n",
        "        self.labels = labels\n",
        "        self.sr = sr\n",
        "        self.n_mels = n_mels\n",
        "        self.transform = transforms.Compose([\n",
        "            transforms.ToTensor(),\n",
        "            transforms.Resize((224, 224)),\n",
        "            transforms.Normalize((0.5,), (0.5,))\n",
        "        ])\n",
        "\n",
        "    def __len__(self):\n",
        "        return len(self.file_paths)\n",
        "\n",
        "\n",
        "\n",
        "    def __getitem__(self, idx):\n",
        "        path = self.file_paths[idx]\n",
        "        label = self.labels[idx]\n",
        "        y, _ = librosa.load(path, sr=self.sr)\n",
        "\n",
        "    # Compute mel spectrogram\n",
        "        mel = librosa.feature.melspectrogram(y=y, sr=self.sr, n_mels=self.n_mels)\n",
        "        mel_db = librosa.power_to_db(mel, ref=np.max)\n",
        "\n",
        "    # Convert to 3-channel image and resize before ToTensor\n",
        "        mel_img = np.stack([mel_db] * 3, axis=-1)  # [H, W, 3]\n",
        "        mel_img = Image.fromarray(mel_img.astype(np.uint8)).resize((224, 224))\n",
        "        mel_img = np.array(mel_img).transpose(2, 0, 1)  # [3, 224, 224]\n",
        "\n",
        "    # Convert to float tensor and normalize\n",
        "        mel_tensor = torch.tensor(mel_img / 255.0, dtype=torch.float)\n",
        "        mel_tensor = (mel_tensor - 0.5) / 0.5  # Normalize to [-1, 1]\n",
        "\n",
        "        return mel_tensor, label\n"
      ],
      "metadata": {
        "id": "lhmeLJCKtqIH"
      },
      "execution_count": 44,
      "outputs": []
    },
    {
      "cell_type": "code",
      "source": [
        "def collect_audio_files(base_path):\n",
        "    categories = {'Bonafide': 0, 'Spoofed_TTS': 1, 'Spoofed_Tacotron': 1}\n",
        "    file_paths, labels, speakers = [], [], []\n",
        "\n",
        "    for category, label in categories.items():\n",
        "        category_path = os.path.join(base_path, category)\n",
        "        if not os.path.exists(category_path):\n",
        "            continue\n",
        "        for speaker in os.listdir(category_path):\n",
        "            speaker_path = os.path.join(category_path, speaker)\n",
        "            for root, _, files in os.walk(speaker_path):\n",
        "                for file in files:\n",
        "                    if file.endswith(\".wav\"):\n",
        "                        file_paths.append(os.path.join(root, file))\n",
        "                        labels.append(label)\n",
        "                        speakers.append(speaker)\n",
        "    return file_paths, labels, speakers\n"
      ],
      "metadata": {
        "id": "PBa2PiewtueJ"
      },
      "execution_count": 45,
      "outputs": []
    },
    {
      "cell_type": "code",
      "source": [
        "def get_cnn_model(model_type='resnet18'):\n",
        "    if model_type == 'resnet18':\n",
        "        model = models.resnet18(weights=models.ResNet18_Weights.DEFAULT)\n",
        "        model.fc = nn.Linear(model.fc.in_features, 2)\n",
        "    elif model_type == 'vgg16':\n",
        "        model = models.vgg16(weights=models.VGG16_Weights.DEFAULT)\n",
        "        model.classifier[6] = nn.Linear(4096, 2)\n",
        "    else:\n",
        "        raise ValueError(\"model_type must be 'resnet18' or 'vgg16'\")\n",
        "    return model.to(device)\n"
      ],
      "metadata": {
        "id": "6D-3B6EdtwrI"
      },
      "execution_count": 46,
      "outputs": []
    },
    {
      "cell_type": "code",
      "source": [
        "def train_model(model, train_loader, test_loader, epochs=30, lr=1e-4, patience=5, weight_decay=1e-5):\n",
        "    optimizer = optim.Adam(model.parameters(), lr=lr, weight_decay=weight_decay)\n",
        "    scheduler = optim.lr_scheduler.ReduceLROnPlateau(optimizer, mode='min', factor=0.5, patience=2, verbose=True)\n",
        "    criterion = nn.CrossEntropyLoss()\n",
        "\n",
        "    best_loss = float('inf')\n",
        "    best_model = None\n",
        "    wait = 0\n",
        "\n",
        "    for epoch in range(epochs):\n",
        "        model.train()\n",
        "        running_loss = 0.0\n",
        "\n",
        "        for inputs, labels in tqdm(train_loader, desc=f\"Epoch {epoch+1}\"):\n",
        "            inputs, labels = inputs.to(device), labels.to(device)\n",
        "            optimizer.zero_grad()\n",
        "            outputs = model(inputs)\n",
        "            loss = criterion(outputs, labels)\n",
        "            loss.backward()\n",
        "            optimizer.step()\n",
        "            running_loss += loss.item()\n",
        "\n",
        "        avg_loss = running_loss / len(train_loader)\n",
        "        val_loss = validate_model(model, test_loader)\n",
        "        scheduler.step(val_loss)\n",
        "\n",
        "        print(f\"Epoch {epoch+1}: Train Loss = {avg_loss:.4f}, Val Loss = {val_loss:.4f}\")\n",
        "\n",
        "        if val_loss < best_loss:\n",
        "            best_loss = val_loss\n",
        "            best_model = model.state_dict()\n",
        "            wait = 0\n",
        "        else:\n",
        "            wait += 1\n",
        "            if wait >= patience:\n",
        "                print(\"⏹️ Early stopping triggered.\")\n",
        "                break\n",
        "\n",
        "    model.load_state_dict(best_model)\n",
        "    return model\n",
        "\n"
      ],
      "metadata": {
        "id": "zhtK93RFt3Gy"
      },
      "execution_count": 47,
      "outputs": []
    },
    {
      "cell_type": "code",
      "source": [
        "# ========================\n",
        "# Validation Function (for Early Stopping)\n",
        "# ========================\n",
        "def validate_model(model, loader):\n",
        "    model.eval()\n",
        "    criterion = nn.CrossEntropyLoss()\n",
        "    total_loss = 0.0\n",
        "\n",
        "    with torch.no_grad():\n",
        "        for inputs, labels in loader:\n",
        "            inputs, labels = inputs.to(device), labels.to(device)\n",
        "            outputs = model(inputs)\n",
        "            loss = criterion(outputs, labels)\n",
        "            total_loss += loss.item()\n",
        "\n",
        "    return total_loss / len(loader)\n"
      ],
      "metadata": {
        "id": "O1XODKlMt-QO"
      },
      "execution_count": 48,
      "outputs": []
    },
    {
      "cell_type": "code",
      "source": [
        "# ========================\n",
        "# Evaluation Function\n",
        "# ========================\n",
        "def evaluate_model(model, test_loader, name=\"Model\"):\n",
        "    model.eval()\n",
        "    y_true, y_pred, y_prob = [], [], []\n",
        "\n",
        "    with torch.no_grad():\n",
        "        for inputs, labels in test_loader:\n",
        "            inputs = inputs.to(device)\n",
        "            outputs = model(inputs)\n",
        "            probs = torch.softmax(outputs, dim=1)[:, 1]\n",
        "            preds = torch.argmax(outputs, dim=1).cpu().numpy()\n",
        "            y_true.extend(labels)\n",
        "            y_pred.extend(preds)\n",
        "            y_prob.extend(probs.cpu().numpy())\n",
        "\n",
        "    acc = accuracy_score(y_true, y_pred)\n",
        "    prec = precision_score(y_true, y_pred)\n",
        "    rec = recall_score(y_true, y_pred)\n",
        "    f1 = f1_score(y_true, y_pred)\n",
        "    auc = roc_auc_score(y_true, y_prob)\n",
        "\n",
        "    print(f\"\\n🔍 {name} Classification Report:\\n{classification_report(y_true, y_pred)}\")\n",
        "    print(f\"Confusion Matrix:\\n{confusion_matrix(y_true, y_pred)}\")\n",
        "    print(f\"Accuracy: {acc:.4f}\")\n",
        "    print(f\"Precision: {prec:.4f}\")\n",
        "    print(f\"Recall: {rec:.4f}\")\n",
        "    print(f\"F1 Score: {f1:.4f}\")\n",
        "    print(f\"AUC: {auc:.4f}\")\n",
        "\n",
        "    sns.heatmap(confusion_matrix(y_true, y_pred), annot=True, fmt='d', cmap=\"Blues\")\n",
        "    plt.title(f\"{name} Confusion Matrix\")\n",
        "    plt.xlabel(\"Predicted\")\n",
        "    plt.ylabel(\"True\")\n",
        "    plt.show()\n",
        "\n",
        "    return {\n",
        "        \"accuracy\": acc,\n",
        "        \"precision\": prec,\n",
        "        \"recall\": rec,\n",
        "        \"f1\": f1,\n",
        "        \"auc\": auc,\n",
        "    }"
      ],
      "metadata": {
        "id": "Ic-FclKct-pB"
      },
      "execution_count": 49,
      "outputs": []
    },
    {
      "cell_type": "code",
      "source": [
        "# ========================\n",
        "# Main Execution\n",
        "# ========================\n",
        "base_path = \"/content/drive/MyDrive/deepfake_detection_dataset_urdu\"\n",
        "file_paths, labels, speakers = collect_audio_files(base_path)\n"
      ],
      "metadata": {
        "id": "FYCsp1WxuPxP"
      },
      "execution_count": 50,
      "outputs": []
    },
    {
      "cell_type": "code",
      "source": [
        "# Group-wise Split\n",
        "gss = GroupShuffleSplit(n_splits=1, test_size=0.2, random_state=42)\n",
        "train_idx, test_idx = next(gss.split(file_paths, labels, groups=speakers))\n",
        "train_paths = [file_paths[i] for i in train_idx]\n",
        "train_labels = [labels[i] for i in train_idx]\n",
        "test_paths = [file_paths[i] for i in test_idx]\n",
        "test_labels = [labels[i] for i in test_idx]"
      ],
      "metadata": {
        "id": "WGgDkJrcuSuP"
      },
      "execution_count": 51,
      "outputs": []
    },
    {
      "cell_type": "code",
      "source": [
        "# Datasets and Loaders\n",
        "train_dataset = MelSpectrogramDataset(train_paths, train_labels)\n",
        "test_dataset = MelSpectrogramDataset(test_paths, test_labels)\n",
        "train_loader = DataLoader(train_dataset, batch_size=32, shuffle=True, num_workers=2)\n",
        "test_loader = DataLoader(test_dataset, batch_size=32, num_workers=2)"
      ],
      "metadata": {
        "id": "8nuCRwMxuWBD"
      },
      "execution_count": 52,
      "outputs": []
    },
    {
      "cell_type": "code",
      "source": [
        "# ---- ResNet18 ----\n",
        "resnet = get_cnn_model(\"resnet18\")\n",
        "resnet = train_model(resnet, train_loader, test_loader, epochs=30)\n",
        "resnet_metrics = evaluate_model(resnet, test_loader, name=\"ResNet18\")\n"
      ],
      "metadata": {
        "colab": {
          "base_uri": "https://localhost:8080/",
          "height": 1000
        },
        "id": "3hUE9FjguZxC",
        "outputId": "2fdf24a2-5038-4e09-87b2-f2471d6ec170"
      },
      "execution_count": 53,
      "outputs": [
        {
          "output_type": "stream",
          "name": "stderr",
          "text": [
            "/usr/local/lib/python3.11/dist-packages/torch/optim/lr_scheduler.py:62: UserWarning: The verbose parameter is deprecated. Please use get_last_lr() to access the learning rate.\n",
            "  warnings.warn(\n",
            "Epoch 1: 100%|██████████| 163/163 [03:10<00:00,  1.17s/it]\n"
          ]
        },
        {
          "output_type": "stream",
          "name": "stdout",
          "text": [
            "Epoch 1: Train Loss = 0.0439, Val Loss = 0.0144\n"
          ]
        },
        {
          "output_type": "stream",
          "name": "stderr",
          "text": [
            "Epoch 2: 100%|██████████| 163/163 [03:07<00:00,  1.15s/it]\n"
          ]
        },
        {
          "output_type": "stream",
          "name": "stdout",
          "text": [
            "Epoch 2: Train Loss = 0.0073, Val Loss = 0.0189\n"
          ]
        },
        {
          "output_type": "stream",
          "name": "stderr",
          "text": [
            "Epoch 3: 100%|██████████| 163/163 [02:59<00:00,  1.10s/it]\n"
          ]
        },
        {
          "output_type": "stream",
          "name": "stdout",
          "text": [
            "Epoch 3: Train Loss = 0.0009, Val Loss = 0.0203\n"
          ]
        },
        {
          "output_type": "stream",
          "name": "stderr",
          "text": [
            "Epoch 4: 100%|██████████| 163/163 [03:07<00:00,  1.15s/it]\n"
          ]
        },
        {
          "output_type": "stream",
          "name": "stdout",
          "text": [
            "Epoch 4: Train Loss = 0.0003, Val Loss = 0.0068\n"
          ]
        },
        {
          "output_type": "stream",
          "name": "stderr",
          "text": [
            "Epoch 5: 100%|██████████| 163/163 [03:15<00:00,  1.20s/it]\n"
          ]
        },
        {
          "output_type": "stream",
          "name": "stdout",
          "text": [
            "Epoch 5: Train Loss = 0.0002, Val Loss = 0.0057\n"
          ]
        },
        {
          "output_type": "stream",
          "name": "stderr",
          "text": [
            "Epoch 6: 100%|██████████| 163/163 [03:07<00:00,  1.15s/it]\n"
          ]
        },
        {
          "output_type": "stream",
          "name": "stdout",
          "text": [
            "Epoch 6: Train Loss = 0.0001, Val Loss = 0.0053\n"
          ]
        },
        {
          "output_type": "stream",
          "name": "stderr",
          "text": [
            "Epoch 7: 100%|██████████| 163/163 [03:10<00:00,  1.17s/it]\n"
          ]
        },
        {
          "output_type": "stream",
          "name": "stdout",
          "text": [
            "Epoch 7: Train Loss = 0.0001, Val Loss = 0.0048\n"
          ]
        },
        {
          "output_type": "stream",
          "name": "stderr",
          "text": [
            "Epoch 8: 100%|██████████| 163/163 [03:10<00:00,  1.17s/it]\n"
          ]
        },
        {
          "output_type": "stream",
          "name": "stdout",
          "text": [
            "Epoch 8: Train Loss = 0.0001, Val Loss = 0.0032\n"
          ]
        },
        {
          "output_type": "stream",
          "name": "stderr",
          "text": [
            "Epoch 9: 100%|██████████| 163/163 [03:04<00:00,  1.13s/it]\n"
          ]
        },
        {
          "output_type": "stream",
          "name": "stdout",
          "text": [
            "Epoch 9: Train Loss = 0.0001, Val Loss = 0.0057\n"
          ]
        },
        {
          "output_type": "stream",
          "name": "stderr",
          "text": [
            "Epoch 10: 100%|██████████| 163/163 [03:05<00:00,  1.14s/it]\n"
          ]
        },
        {
          "output_type": "stream",
          "name": "stdout",
          "text": [
            "Epoch 10: Train Loss = 0.0001, Val Loss = 0.0033\n"
          ]
        },
        {
          "output_type": "stream",
          "name": "stderr",
          "text": [
            "Epoch 11: 100%|██████████| 163/163 [03:10<00:00,  1.17s/it]\n"
          ]
        },
        {
          "output_type": "stream",
          "name": "stdout",
          "text": [
            "Epoch 11: Train Loss = 0.0001, Val Loss = 0.0062\n"
          ]
        },
        {
          "output_type": "stream",
          "name": "stderr",
          "text": [
            "Epoch 12: 100%|██████████| 163/163 [03:10<00:00,  1.17s/it]\n"
          ]
        },
        {
          "output_type": "stream",
          "name": "stdout",
          "text": [
            "Epoch 12: Train Loss = 0.0001, Val Loss = 0.0037\n"
          ]
        },
        {
          "output_type": "stream",
          "name": "stderr",
          "text": [
            "Epoch 13: 100%|██████████| 163/163 [03:10<00:00,  1.17s/it]\n"
          ]
        },
        {
          "output_type": "stream",
          "name": "stdout",
          "text": [
            "Epoch 13: Train Loss = 0.0001, Val Loss = 0.0047\n",
            "⏹️ Early stopping triggered.\n",
            "\n",
            "🔍 ResNet18 Classification Report:\n",
            "              precision    recall  f1-score   support\n",
            "\n",
            "           0       1.00      1.00      1.00       799\n",
            "           1       1.00      1.00      1.00       799\n",
            "\n",
            "    accuracy                           1.00      1598\n",
            "   macro avg       1.00      1.00      1.00      1598\n",
            "weighted avg       1.00      1.00      1.00      1598\n",
            "\n",
            "Confusion Matrix:\n",
            "[[799   0]\n",
            " [  1 798]]\n",
            "Accuracy: 0.9994\n",
            "Precision: 1.0000\n",
            "Recall: 0.9987\n",
            "F1 Score: 0.9994\n",
            "AUC: 1.0000\n"
          ]
        },
        {
          "output_type": "display_data",
          "data": {
            "text/plain": [
              "<Figure size 640x480 with 2 Axes>"
            ],
            "image/png": "[encoded data removed]"
          },
          "metadata": {}
        }
      ]
    },
    {
      "cell_type": "code",
      "source": [
        "# ---- VGG16 ----\n",
        "vgg = get_cnn_model(\"vgg16\")\n",
        "vgg = train_model(vgg, train_loader, test_loader, epochs=30)\n",
        "vgg_metrics = evaluate_model(vgg, test_loader, name=\"VGG16\")\n"
      ],
      "metadata": {
        "colab": {
          "base_uri": "https://localhost:8080/",
          "height": 1000
        },
        "id": "sW6nlBZ1ucgU",
        "outputId": "2c284f2c-bedc-4b8a-d8cd-267af24525e8"
      },
      "execution_count": 54,
      "outputs": [
        {
          "output_type": "stream",
          "name": "stderr",
          "text": [
            "/usr/local/lib/python3.11/dist-packages/torch/optim/lr_scheduler.py:62: UserWarning: The verbose parameter is deprecated. Please use get_last_lr() to access the learning rate.\n",
            "  warnings.warn(\n",
            "Epoch 1: 100%|██████████| 163/163 [03:23<00:00,  1.25s/it]\n"
          ]
        },
        {
          "output_type": "stream",
          "name": "stdout",
          "text": [
            "Epoch 1: Train Loss = 0.0723, Val Loss = 0.0199\n"
          ]
        },
        {
          "output_type": "stream",
          "name": "stderr",
          "text": [
            "Epoch 2: 100%|██████████| 163/163 [03:21<00:00,  1.24s/it]\n"
          ]
        },
        {
          "output_type": "stream",
          "name": "stdout",
          "text": [
            "Epoch 2: Train Loss = 0.0144, Val Loss = 0.0492\n"
          ]
        },
        {
          "output_type": "stream",
          "name": "stderr",
          "text": [
            "Epoch 3: 100%|██████████| 163/163 [03:21<00:00,  1.23s/it]\n"
          ]
        },
        {
          "output_type": "stream",
          "name": "stdout",
          "text": [
            "Epoch 3: Train Loss = 0.0101, Val Loss = 0.1741\n"
          ]
        },
        {
          "output_type": "stream",
          "name": "stderr",
          "text": [
            "Epoch 4: 100%|██████████| 163/163 [03:21<00:00,  1.24s/it]\n"
          ]
        },
        {
          "output_type": "stream",
          "name": "stdout",
          "text": [
            "Epoch 4: Train Loss = 0.0085, Val Loss = 0.1495\n"
          ]
        },
        {
          "output_type": "stream",
          "name": "stderr",
          "text": [
            "Epoch 5: 100%|██████████| 163/163 [03:20<00:00,  1.23s/it]\n"
          ]
        },
        {
          "output_type": "stream",
          "name": "stdout",
          "text": [
            "Epoch 5: Train Loss = 0.0070, Val Loss = 0.1055\n"
          ]
        },
        {
          "output_type": "stream",
          "name": "stderr",
          "text": [
            "Epoch 6: 100%|██████████| 163/163 [03:21<00:00,  1.24s/it]\n"
          ]
        },
        {
          "output_type": "stream",
          "name": "stdout",
          "text": [
            "Epoch 6: Train Loss = 0.0000, Val Loss = 0.1136\n",
            "⏹️ Early stopping triggered.\n",
            "\n",
            "🔍 VGG16 Classification Report:\n",
            "              precision    recall  f1-score   support\n",
            "\n",
            "           0       0.95      1.00      0.97       799\n",
            "           1       1.00      0.95      0.97       799\n",
            "\n",
            "    accuracy                           0.97      1598\n",
            "   macro avg       0.97      0.97      0.97      1598\n",
            "weighted avg       0.97      0.97      0.97      1598\n",
            "\n",
            "Confusion Matrix:\n",
            "[[797   2]\n",
            " [ 42 757]]\n",
            "Accuracy: 0.9725\n",
            "Precision: 0.9974\n",
            "Recall: 0.9474\n",
            "F1 Score: 0.9718\n",
            "AUC: 0.9996\n"
          ]
        },
        {
          "output_type": "display_data",
          "data": {
            "text/plain": [
              "<Figure size 640x480 with 2 Axes>"
            ],
            "image/png": "[encoded data removed]"
          },
          "metadata": {}
        }
      ]
    },
    {
      "cell_type": "code",
      "source": [
        "# ---- Summary ----\n",
        "print(\"\\n📊 Final Comparison:\")\n",
        "print(f\"ResNet18 Accuracy: {resnet_metrics['accuracy']:.4f}, F1: {resnet_metrics['f1']:.4f}\")\n",
        "print(f\"VGG16   Accuracy: {vgg_metrics['accuracy']:.4f}, F1: {vgg_metrics['f1']:.4f}\")"
      ],
      "metadata": {
        "colab": {
          "base_uri": "https://localhost:8080/"
        },
        "id": "BARXoDX5vyN7",
        "outputId": "926f46f8-83cc-45c6-c5d5-4a67eca99570"
      },
      "execution_count": 55,
      "outputs": [
        {
          "output_type": "stream",
          "name": "stdout",
          "text": [
            "\n",
            "📊 Final Comparison:\n",
            "ResNet18 Accuracy: 0.9994, F1: 0.9994\n",
            "VGG16   Accuracy: 0.9725, F1: 0.9718\n"
          ]
        }
      ]
    },
    {
      "cell_type": "markdown",
      "source": [
        "# Deepfake Audio Detection: CNN Performance Summary (ResNet18 vs VGG16)\n",
        "\n",
        "This project aims to detect deepfake Urdu audio using convolutional and recurrent models trained on spectrogram-based features. We evaluated and compared the performance of two convolutional neural network architectures: **ResNet18** and **VGG16**, both trained on Mel spectrogram inputs with regularization and early stopping to avoid overfitting.\n",
        "\n",
        "## Model Evaluation Summary\n",
        "\n",
        "### 1. ResNet18\n",
        "- **Accuracy:** 99.94%\n",
        "- **Precision:** 100.00%\n",
        "- **Recall:** 99.87%\n",
        "- **F1 Score:** 99.94%\n",
        "- **AUC:** 1.000\n",
        "- **Misclassifications:** 1\n",
        "- **Overfitting:** No signs of overfitting; model generalized well to validation data.\n",
        "\n",
        "### 2. VGG16\n",
        "- **Accuracy:** 97.25%\n",
        "- **Precision:** 99.74%\n",
        "- **Recall:** 94.74%\n",
        "- **F1 Score:** 97.18%\n",
        "- **AUC:** 0.9996\n",
        "- **Misclassifications:** 44\n",
        "- **Overfitting:** Mild overfitting observed. Validation loss increased after a few epochs while training loss continued decreasing.\n",
        "\n",
        "## Conclusion\n",
        "- **ResNet18** outperformed VGG16 significantly in both accuracy and generalization.\n",
        "- Early stopping and regularization techniques like dropout helped mitigate overfitting.\n",
        "- ResNet18 is recommended as the more robust architecture for this task.\n",
        "\n",
        "Next steps could involve combining CNN features with LSTM layers (CRNN) or experimenting with HuBERT embeddings for more robust temporal modeling.\n"
      ],
      "metadata": {
        "id": "5-GpQVODDZ6v"
      }
    },
    {
      "cell_type": "code",
      "source": [],
      "metadata": {
        "id": "Htft7b6Qv2R0"
      },
      "execution_count": null,
      "outputs": []
    }
  ]
}