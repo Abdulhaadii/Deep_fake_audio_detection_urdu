{
  "nbformat": 4,
  "nbformat_minor": 0,
  "metadata": {
    "colab": {
      "provenance": []
    },
    "kernelspec": {
      "name": "python3",
      "display_name": "Python 3"
    },
    "language_info": {
      "name": "python"
    }
  },
  "cells": [
    {
      "cell_type": "markdown",
      "source": [
        "#Urdu Deepfake Audio Detection using a Simple Perceptron\n",
        "This notebook implements a basic deepfake detection pipeline for Urdu audio using the CSALT-LUMS Deepfake Audio Dataset. It focuses on extracting three common audio features — MFCC, Mel Spectrogram, and Chroma — from .wav files and uses a single-layer neural network (Perceptron) for binary classification between bonafide (real) and spoofed (fake) audio samples.\n",
        "\n",
        "#Steps Covered:\n",
        "Load audio file paths and assign binary labels (0 = Bonafide, 1 = Spoofed)\n",
        "\n",
        "Extract MFCC, Mel, and Chroma features using librosa\n",
        "\n",
        "Train a separate Perceptron model on each feature set using TensorFlow/Keras\n",
        "\n",
        "Evaluate performance using accuracy, precision, recall, F1-score, AUC, and confusion matrix\n",
        "\n",
        "This notebook helps analyze how different acoustic features influence the performance of a simple neural model in detecting fake audio."
      ],
      "metadata": {
        "id": "7YpKa9D07AV-"
      }
    },
    {
      "cell_type": "code",
      "execution_count": 1,
      "metadata": {
        "colab": {
          "base_uri": "https://localhost:8080/"
        },
        "id": "YtIk_25wvjWP",
        "outputId": "2ed35e49-aba7-4880-d3c3-d7bcff76eb6f"
      },
      "outputs": [
        {
          "output_type": "stream",
          "name": "stdout",
          "text": [
            "Mounted at /content/drive\n"
          ]
        }
      ],
      "source": [
        "from google.colab import drive\n",
        "drive.mount('/content/drive')"
      ]
    },
    {
      "cell_type": "code",
      "source": [
        "# 2. Imports\n",
        "import os\n",
        "import numpy as np\n",
        "import librosa\n",
        "import matplotlib.pyplot as plt\n",
        "import seaborn as sns\n",
        "from tqdm import tqdm\n",
        "import warnings\n",
        "warnings.filterwarnings(\"ignore\")\n",
        "\n",
        "from sklearn.model_selection import train_test_split\n",
        "from sklearn.metrics import (\n",
        "    accuracy_score, precision_score, recall_score, f1_score,\n",
        "    roc_auc_score, classification_report, confusion_matrix\n",
        ")\n",
        "\n",
        "import tensorflow as tf\n",
        "from tensorflow.keras.models import Sequential\n",
        "from tensorflow.keras.layers import Dense, Input\n",
        "from tensorflow.keras.callbacks import EarlyStopping\n"
      ],
      "metadata": {
        "id": "HxCbyEM0xQgr"
      },
      "execution_count": 13,
      "outputs": []
    },
    {
      "cell_type": "code",
      "source": [
        "# 3. Dataset Path\n",
        "DATASET_PATH = '/content/drive/MyDrive/deepfake_detection_dataset_urdu'\n"
      ],
      "metadata": {
        "id": "65mZ5-k7xisI"
      },
      "execution_count": 14,
      "outputs": []
    },
    {
      "cell_type": "code",
      "source": [
        "# 4. Load File Paths and Labels\n",
        "def get_audio_paths_and_labels(dataset_path):\n",
        "    wav_files = []\n",
        "    labels = []\n",
        "    for root, _, files in os.walk(dataset_path):\n",
        "        for file in files:\n",
        "            if file.endswith(\".wav\"):\n",
        "                file_path = os.path.join(root, file)\n",
        "                if \"Bonafide\" in file_path:\n",
        "                    label = 0\n",
        "                elif \"Tacotron\" in file_path or \"VITS\" in file_path:\n",
        "                    label = 1\n",
        "                else:\n",
        "                    continue\n",
        "                wav_files.append(file_path)\n",
        "                labels.append(label)\n",
        "    return wav_files, labels\n",
        "\n",
        "file_paths, labels = get_audio_paths_and_labels(DATASET_PATH)\n",
        "labels = np.array(labels)  # ✅ Fix: convert to NumPy array\n"
      ],
      "metadata": {
        "id": "bWLTVLJVyBD2"
      },
      "execution_count": 15,
      "outputs": []
    },
    {
      "cell_type": "code",
      "source": [
        "# 5. Feature Extraction Functions\n",
        "def extract_mfcc(file_path, sr=16000, n_mfcc=13):\n",
        "    y, sr = librosa.load(file_path, sr=sr)\n",
        "    mfcc = librosa.feature.mfcc(y=y, sr=sr, n_mfcc=n_mfcc)\n",
        "    return np.mean(mfcc, axis=1)\n",
        "\n",
        "def extract_mel(file_path, sr=16000, n_mels=40):\n",
        "    y, sr = librosa.load(file_path, sr=sr)\n",
        "    mel = librosa.feature.melspectrogram(y=y, sr=sr, n_mels=n_mels)\n",
        "    mel_db = librosa.power_to_db(mel)\n",
        "    return np.mean(mel_db, axis=1)\n",
        "\n",
        "def extract_chroma(file_path, sr=16000):\n",
        "    y, sr = librosa.load(file_path, sr=sr)\n",
        "    stft = np.abs(librosa.stft(y))\n",
        "    chroma = librosa.feature.chroma_stft(S=stft, sr=sr)\n",
        "    return np.mean(chroma, axis=1)\n",
        "\n",
        "def extract_features(file_paths, feature_type='mfcc'):\n",
        "    features = []\n",
        "    for path in tqdm(file_paths, desc=f\"Extracting {feature_type.upper()}\"):\n",
        "        try:\n",
        "            if feature_type == 'mfcc':\n",
        "                feat = extract_mfcc(path)\n",
        "            elif feature_type == 'mel':\n",
        "                feat = extract_mel(path)\n",
        "            elif feature_type == 'chroma':\n",
        "                feat = extract_chroma(path)\n",
        "            features.append(feat)\n",
        "        except Exception as e:\n",
        "            print(f\"Error processing {path}: {e}\")\n",
        "    return np.array(features)\n"
      ],
      "metadata": {
        "id": "sZljuMWvyEBc"
      },
      "execution_count": 16,
      "outputs": []
    },
    {
      "cell_type": "code",
      "source": [
        "# 6. Train and Evaluate Perceptron Model\n",
        "def train_perceptron(X, y, feature_name):\n",
        "    print(f\"\\nTraining Perceptron on {feature_name.upper()} Features\")\n",
        "\n",
        "    X_train, X_test, y_train, y_test = train_test_split(\n",
        "        X, y, test_size=0.2, random_state=42\n",
        "    )\n",
        "\n",
        "    input_dim = X_train.shape[1]\n",
        "\n",
        "    model = Sequential([\n",
        "        Input(shape=(input_dim,)),\n",
        "        Dense(1, activation='sigmoid')\n",
        "    ])\n",
        "\n",
        "    model.compile(optimizer='adam', loss='binary_crossentropy', metrics=['accuracy'])\n",
        "\n",
        "    early_stop = EarlyStopping(monitor='val_loss', patience=5, restore_best_weights=True)\n",
        "\n",
        "    model.fit(\n",
        "        X_train, y_train,\n",
        "        validation_split=0.2,\n",
        "        epochs=50,\n",
        "        batch_size=32,\n",
        "        callbacks=[early_stop],\n",
        "        verbose=0\n",
        "    )\n",
        "\n",
        "    y_pred_prob = model.predict(X_test).flatten()\n",
        "    y_pred = (y_pred_prob > 0.5).astype(int)\n",
        "\n",
        "    acc = accuracy_score(y_test, y_pred)\n",
        "    precision = precision_score(y_test, y_pred)\n",
        "    recall = recall_score(y_test, y_pred)\n",
        "    f1 = f1_score(y_test, y_pred)\n",
        "    auc = roc_auc_score(y_test, y_pred_prob)\n",
        "    cm = confusion_matrix(y_test, y_pred)\n",
        "\n",
        "    print(\"\\n--- Classification Metrics ---\")\n",
        "    print(f\"Accuracy : {acc:.4f}\")\n",
        "    print(f\"Precision: {precision:.4f}\")\n",
        "    print(f\"Recall   : {recall:.4f}\")\n",
        "    print(f\"F1-Score : {f1:.4f}\")\n",
        "    print(f\"AUC      : {auc:.4f}\")\n",
        "    print(\"\\nConfusion Matrix:\")\n",
        "    print(cm)\n",
        "\n",
        "    # Confusion Matrix Plot\n",
        "    plt.figure(figsize=(5, 4))\n",
        "    sns.heatmap(cm, annot=True, fmt=\"d\", cmap=\"Blues\", xticklabels=[\"Bonafide\", \"Fake\"], yticklabels=[\"Bonafide\", \"Fake\"])\n",
        "    plt.title(f\"{feature_name.upper()} - Confusion Matrix\")\n",
        "    plt.xlabel(\"Predicted\")\n",
        "    plt.ylabel(\"Actual\")\n",
        "    plt.show()\n",
        "\n",
        "    return model"
      ],
      "metadata": {
        "id": "DIpzeUgYzajD"
      },
      "execution_count": 17,
      "outputs": []
    },
    {
      "cell_type": "markdown",
      "source": [
        "MFCC"
      ],
      "metadata": {
        "id": "I1N5Jlhgz6HH"
      }
    },
    {
      "cell_type": "code",
      "source": [
        "X_mfcc = extract_features(file_paths, 'mfcc')\n",
        "perceptron_mfcc = train_perceptron(X_mfcc, labels, 'mfcc')\n"
      ],
      "metadata": {
        "colab": {
          "base_uri": "https://localhost:8080/",
          "height": 670
        },
        "id": "57OcofXGz29y",
        "outputId": "5b69fb1d-f57c-46ae-a1c3-79159318ef10"
      },
      "execution_count": 18,
      "outputs": [
        {
          "output_type": "stream",
          "name": "stderr",
          "text": [
            "Extracting MFCC: 100%|██████████| 5108/5108 [02:28<00:00, 34.41it/s]\n"
          ]
        },
        {
          "output_type": "stream",
          "name": "stdout",
          "text": [
            "\n",
            "Training Perceptron on MFCC Features\n",
            "\u001b[1m32/32\u001b[0m \u001b[32m━━━━━━━━━━━━━━━━━━━━\u001b[0m\u001b[37m\u001b[0m \u001b[1m0s\u001b[0m 2ms/step \n",
            "\n",
            "--- Classification Metrics ---\n",
            "Accuracy : 0.8796\n",
            "Precision: 0.8448\n",
            "Recall   : 0.7994\n",
            "F1-Score : 0.8215\n",
            "AUC      : 0.9312\n",
            "\n",
            "Confusion Matrix:\n",
            "[[616  52]\n",
            " [ 71 283]]\n"
          ]
        },
        {
          "output_type": "display_data",
          "data": {
            "text/plain": [
              "<Figure size 500x400 with 2 Axes>"
            ],
            "image/png": "[encoded data removed]"
          },
          "metadata": {}
        }
      ]
    },
    {
      "cell_type": "markdown",
      "source": [
        "Mel Spectrogram"
      ],
      "metadata": {
        "id": "mwKJuLEe0dGF"
      }
    },
    {
      "cell_type": "code",
      "source": [
        "X_mel = extract_features(file_paths, 'mel')\n",
        "perceptron_mel = train_perceptron(X_mel, labels, 'mel')\n"
      ],
      "metadata": {
        "colab": {
          "base_uri": "https://localhost:8080/",
          "height": 670
        },
        "id": "THFc3Dqez7Ai",
        "outputId": "0cefb988-fe61-43c1-f6d9-0f353bd77aeb"
      },
      "execution_count": 19,
      "outputs": [
        {
          "output_type": "stream",
          "name": "stderr",
          "text": [
            "Extracting MEL: 100%|██████████| 5108/5108 [02:01<00:00, 42.05it/s]\n"
          ]
        },
        {
          "output_type": "stream",
          "name": "stdout",
          "text": [
            "\n",
            "Training Perceptron on MEL Features\n",
            "\u001b[1m32/32\u001b[0m \u001b[32m━━━━━━━━━━━━━━━━━━━━\u001b[0m\u001b[37m\u001b[0m \u001b[1m0s\u001b[0m 2ms/step \n",
            "\n",
            "--- Classification Metrics ---\n",
            "Accuracy : 0.9070\n",
            "Precision: 0.8754\n",
            "Recall   : 0.8531\n",
            "F1-Score : 0.8641\n",
            "AUC      : 0.9449\n",
            "\n",
            "Confusion Matrix:\n",
            "[[625  43]\n",
            " [ 52 302]]\n"
          ]
        },
        {
          "output_type": "display_data",
          "data": {
            "text/plain": [
              "<Figure size 500x400 with 2 Axes>"
            ],
            "image/png": "[encoded data removed]"
          },
          "metadata": {}
        }
      ]
    },
    {
      "cell_type": "markdown",
      "source": [
        "Chroma\n"
      ],
      "metadata": {
        "id": "CEIOibSs0km9"
      }
    },
    {
      "cell_type": "code",
      "source": [
        "X_chroma = extract_features(file_paths, 'chroma')\n",
        "perceptron_chroma = train_perceptron(X_chroma, labels, 'chroma')"
      ],
      "metadata": {
        "colab": {
          "base_uri": "https://localhost:8080/",
          "height": 670
        },
        "id": "txVUpwA-0ER4",
        "outputId": "983e7487-95d1-44f1-90c9-b641c9fb6f31"
      },
      "execution_count": 20,
      "outputs": [
        {
          "output_type": "stream",
          "name": "stderr",
          "text": [
            "Extracting CHROMA: 100%|██████████| 5108/5108 [03:31<00:00, 24.18it/s]\n"
          ]
        },
        {
          "output_type": "stream",
          "name": "stdout",
          "text": [
            "\n",
            "Training Perceptron on CHROMA Features\n",
            "\u001b[1m32/32\u001b[0m \u001b[32m━━━━━━━━━━━━━━━━━━━━\u001b[0m\u001b[37m\u001b[0m \u001b[1m0s\u001b[0m 2ms/step \n",
            "\n",
            "--- Classification Metrics ---\n",
            "Accuracy : 0.7368\n",
            "Precision: 1.0000\n",
            "Recall   : 0.2401\n",
            "F1-Score : 0.3872\n",
            "AUC      : 0.8674\n",
            "\n",
            "Confusion Matrix:\n",
            "[[668   0]\n",
            " [269  85]]\n"
          ]
        },
        {
          "output_type": "display_data",
          "data": {
            "text/plain": [
              "<Figure size 500x400 with 2 Axes>"
            ],
            "image/png": "[encoded data removed]"
          },
          "metadata": {}
        }
      ]
    },
    {
      "cell_type": "markdown",
      "source": [
        "#Final Report: Simple Perceptron on Urdu Deepfake Detection\n",
        "This experiment evaluated the effectiveness of three audio feature types—MFCC, Mel Spectrogram, and Chroma—in detecting fake Urdu speech using a simple perceptron model.\n",
        "\n",
        "#Results Summary\n",
        "Feature Type\tAccuracy\tPrecision\tRecall\tF1-Score\tAUC\n",
        "MFCC\t87.96%\t84.48%\t79.94%\t82.15%\t93.12%\n",
        "Mel Spectrogram\t90.70%\t87.54%\t85.31%\t86.41%\t94.49%\n",
        "Chroma\t73.68%\t100.00%\t24.01%\t38.72%\t86.74%\n",
        "\n",
        "#Observations\n",
        "Mel Spectrogram features produced the best overall performance across all metrics. The model trained on Mel data showed high accuracy, recall, and AUC, making it most reliable for both real and fake detection.\n",
        "\n",
        "MFCC features also gave strong results and remain a valid choice, though slightly less effective than Mel.\n",
        "\n",
        "Chroma features led to poor recall and low F1-score, despite perfect precision. The model was overly biased toward the real class, failing to identify most fake samples.\n",
        "\n",
        "#Conclusion\n",
        "A simple perceptron performs best with Mel Spectrogram features for Urdu deepfake audio detection. Future improvements could include deeper neural networks, feature fusion (e.g., Mel + MFCC), or data augmentation to further boost performance."
      ],
      "metadata": {
        "id": "RsCtRa-Q8s_U"
      }
    },
    {
      "cell_type": "code",
      "source": [],
      "metadata": {
        "id": "KTrqqAi36nrK"
      },
      "execution_count": null,
      "outputs": []
    }
  ]
}